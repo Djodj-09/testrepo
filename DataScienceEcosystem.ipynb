{
 "cells": [
  {
   "cell_type": "markdown",
   "id": "5be730c1-de37-4215-9517-e0f9daea0a62",
   "metadata": {},
   "source": [
    "# Data Science Tools and Ecosystem"
   ]
  },
  {
   "cell_type": "markdown",
   "id": "35d9089f-4e5d-4360-b104-158b56ff09c0",
   "metadata": {},
   "source": [
    "## In this notebook, Data Science Tools and Ecosystem are summarized."
   ]
  },
  {
   "cell_type": "markdown",
   "id": "1b95462a-546e-4620-83da-49add06f4c7f",
   "metadata": {},
   "source": [
    "**Objectives:** \n"
   ]
  },
  {
   "cell_type": "markdown",
   "id": "f6ea2065-c781-459f-ad53-7cc791c9c01e",
   "metadata": {},
   "source": [
    "- List popular languages for Data Science\n",
    "\n"
   ]
  },
  {
   "cell_type": "markdown",
   "id": "75a1bd49-4ac3-4571-bb5e-682a1d6f49fc",
   "metadata": {},
   "source": [
    "- Creating table\n"
   ]
  },
  {
   "cell_type": "markdown",
   "id": "32d0b6eb-051e-44a7-a59b-0779d64ad5d5",
   "metadata": {},
   "source": [
    "- creating heading "
   ]
  },
  {
   "cell_type": "markdown",
   "id": "944ea8f7-0e9c-48ff-b2d8-f51284399382",
   "metadata": {},
   "source": [
    "#### Some of the popular languages that Data Scientists use are: python,R,SQL"
   ]
  },
  {
   "cell_type": "markdown",
   "id": "00c7d5f1-2ab4-4c32-99c8-d36b41a343ad",
   "metadata": {},
   "source": [
    "#### Some of the commonly used libraries used by Data Scientists include: numpy, panda, matplotlib, pytorch"
   ]
  },
  {
   "cell_type": "markdown",
   "id": "cb597346-865e-4e56-a3f6-c19cc321bf99",
   "metadata": {},
   "source": [
    "|Data Science Tools|\n",
    "|--------------------|\n",
    "| python             |\n",
    "|         R          |\n",
    "| SQl                |\n"
   ]
  },
  {
   "cell_type": "markdown",
   "id": "848d0d69-1341-46ba-b74c-0a20800c5ed8",
   "metadata": {},
   "source": [
    "### Below are a few examples of evaluating arithmetic expressions in Python"
   ]
  },
  {
   "cell_type": "code",
   "execution_count": 2,
   "id": "95012d2e-01c1-4e10-9b74-415c0c9c2475",
   "metadata": {},
   "outputs": [
    {
     "data": {
      "text/plain": [
       "17"
      ]
     },
     "execution_count": 2,
     "metadata": {},
     "output_type": "execute_result"
    }
   ],
   "source": [
    "(3*4)+5"
   ]
  },
  {
   "cell_type": "markdown",
   "id": "a71ffd52-bfea-4294-84ce-d9369d28d25e",
   "metadata": {},
   "source": [
    "###  This will convert 200 minutes to hours by diving by 60.\n"
   ]
  },
  {
   "cell_type": "code",
   "execution_count": 3,
   "id": "215e2eb9-9e0f-42e4-8618-59464e6ce804",
   "metadata": {},
   "outputs": [
    {
     "data": {
      "text/plain": [
       "3.3333333333333335"
      ]
     },
     "execution_count": 3,
     "metadata": {},
     "output_type": "execute_result"
    }
   ],
   "source": [
    "200/60"
   ]
  },
  {
   "cell_type": "markdown",
   "id": "fdb66a33-1ed6-4208-9fbf-96e23c5ead4c",
   "metadata": {},
   "source": [
    "## Author Djodj"
   ]
  }
 ],
 "metadata": {
  "kernelspec": {
   "display_name": "Python 3 (ipykernel)",
   "language": "python",
   "name": "python3"
  },
  "language_info": {
   "codemirror_mode": {
    "name": "ipython",
    "version": 3
   },
   "file_extension": ".py",
   "mimetype": "text/x-python",
   "name": "python",
   "nbconvert_exporter": "python",
   "pygments_lexer": "ipython3",
   "version": "3.12.8"
  }
 },
 "nbformat": 4,
 "nbformat_minor": 5
}
